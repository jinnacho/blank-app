{
  "nbformat": 4,
  "nbformat_minor": 0,
  "metadata": {
    "colab": {
      "provenance": [],
      "include_colab_link": true
    },
    "kernelspec": {
      "name": "python3",
      "display_name": "Python 3"
    },
    "language_info": {
      "name": "python"
    }
  },
  "cells": [
    {
      "cell_type": "markdown",
      "metadata": {
        "id": "view-in-github",
        "colab_type": "text"
      },
      "source": [
        "<a href=\"https://colab.research.google.com/github/jinnacho/blank-app/blob/main/chapter_1_%EC%B6%9C%EB%A0%A5%2C_%EC%9E%85%EB%A0%A5%2C_%EA%B7%B8%EB%A6%AC%EA%B3%A0_%EC%97%B0%EC%82%B0%EC%9E%90(%EC%8B%A4%EC%8A%B5%EC%9A%A9).ipynb\" target=\"_parent\"><img src=\"https://colab.research.google.com/assets/colab-badge.svg\" alt=\"Open In Colab\"/></a>"
      ]
    },
    {
      "cell_type": "code",
      "execution_count": null,
      "metadata": {
        "id": "U55OX7tdb5hw"
      },
      "outputs": [],
      "source": [
        "# 안녕하세요? 이 글자는 사람만 알아볼 수 있는 주석(comment)입니다!\n"
      ]
    },
    {
      "cell_type": "code",
      "source": [
        "# 앞으로 여러분의 코드에 메모를 남기고 싶으실 때 주석을 작성해보세요!"
      ],
      "metadata": {
        "id": "zv_4fn0UcaPF"
      },
      "execution_count": null,
      "outputs": []
    },
    {
      "cell_type": "markdown",
      "source": [
        "### 1. 데이터 타입과 출력\n",
        "\n",
        "*   문자열(string) : a.k.a. str, 'hello', \"3.14\"\n",
        "*   정수(integer) : a.k.a. int, 1024, -231  \n",
        "*   실수(floating point) : a.k.a. float, 3.14, -0.213\n",
        "*   불린(boolean) : a.k.a. bool, True, False\n",
        "\n",
        "\n",
        "\n"
      ],
      "metadata": {
        "id": "l9Bsb9iyyFmo"
      }
    },
    {
      "cell_type": "code",
      "source": [
        "print(10)\n",
        "print(10.3)\n",
        "print('10.3')\n",
        "print(10 > 1)"
      ],
      "metadata": {
        "id": "Bjo3g32HcnXB"
      },
      "execution_count": null,
      "outputs": []
    },
    {
      "cell_type": "code",
      "source": [
        "print(type(10))\n",
        "print(type(10.3))\n",
        "print(type('10.3'))\n",
        "print(type(10 < 0))"
      ],
      "metadata": {
        "id": "JHhagx1iz8wK"
      },
      "execution_count": null,
      "outputs": []
    },
    {
      "cell_type": "code",
      "source": [
        "print(str(10) + str(20))"
      ],
      "metadata": {
        "id": "yd-qh6biz8yp"
      },
      "execution_count": null,
      "outputs": []
    },
    {
      "cell_type": "code",
      "source": [
        "print(int('10') + int('20'))"
      ],
      "metadata": {
        "id": "nuzp7_HYzvAG"
      },
      "execution_count": null,
      "outputs": []
    },
    {
      "cell_type": "markdown",
      "source": [
        "### 2. 랜덤 마법 소환하기\n",
        "import\n",
        "1. [명사] 수입품\n",
        "2. [명사] 수입\n",
        "3. [동사] 수입하다\n",
        "4. [동사][컴퓨터] (다른 프로그램에서 데이터를) 불러오다\n",
        "\n",
        "\n"
      ],
      "metadata": {
        "id": "klmjDPppy8iW"
      }
    },
    {
      "cell_type": "code",
      "source": [
        "import random\n",
        "print(random.randint(1,6))\n",
        "print(random.randint(1,6))\n",
        "print(random.randint(1,6))"
      ],
      "metadata": {
        "id": "s-iLoViuz6GF"
      },
      "execution_count": null,
      "outputs": []
    },
    {
      "cell_type": "code",
      "source": [
        "x = [1,2,3,4,5,6]\n",
        "print(random.choice(x))"
      ],
      "metadata": {
        "id": "LRiGHWlez6Iz"
      },
      "execution_count": null,
      "outputs": []
    },
    {
      "cell_type": "code",
      "source": [],
      "metadata": {
        "id": "MM3gnCh40CBX"
      },
      "execution_count": null,
      "outputs": []
    },
    {
      "cell_type": "code",
      "source": [],
      "metadata": {
        "id": "6D6jaEu30CDy"
      },
      "execution_count": null,
      "outputs": []
    },
    {
      "cell_type": "code",
      "source": [],
      "metadata": {
        "id": "cZPqaO95z6Lp"
      },
      "execution_count": null,
      "outputs": []
    },
    {
      "cell_type": "code",
      "source": [],
      "metadata": {
        "id": "ekJTmm3wz6N5"
      },
      "execution_count": null,
      "outputs": []
    },
    {
      "cell_type": "code",
      "source": [],
      "metadata": {
        "id": "7uEP92whz6Qg"
      },
      "execution_count": null,
      "outputs": []
    },
    {
      "cell_type": "code",
      "source": [],
      "metadata": {
        "id": "lL4bYC6d4sWy"
      },
      "execution_count": null,
      "outputs": []
    },
    {
      "cell_type": "markdown",
      "source": [
        "### 3. 병아리님! 환영합니다!  \n",
        "*   키보드 입력 : input()\n",
        "*   친절한 입력 : input('안내 메시지')\n",
        "\n",
        "\n",
        "\n",
        "\n"
      ],
      "metadata": {
        "id": "xgTBhswf2xIa"
      }
    },
    {
      "cell_type": "code",
      "source": [
        "a = '병아리'\n",
        "print(a + '님 안녕하세요!')"
      ],
      "metadata": {
        "id": "YkXoIQQq20OJ"
      },
      "execution_count": null,
      "outputs": []
    },
    {
      "cell_type": "code",
      "source": [
        "# 위 코드를 직접 써보시고 조금이라도 응용해보세요! :)\n"
      ],
      "metadata": {
        "id": "zgF52hwpWemh"
      },
      "execution_count": null,
      "outputs": []
    },
    {
      "cell_type": "code",
      "source": [
        "name = input()\n",
        "print(name + '님 안녕하세요!')"
      ],
      "metadata": {
        "id": "V4q0a7eO4y8L"
      },
      "execution_count": null,
      "outputs": []
    },
    {
      "cell_type": "code",
      "source": [
        "# 위 코드를 직접 써보시고 조금이라도 응용해보세요! :)\n"
      ],
      "metadata": {
        "id": "tB8GFDXzWlb9"
      },
      "execution_count": null,
      "outputs": []
    },
    {
      "cell_type": "code",
      "source": [
        "name = input('이름을 입력해주세요 : ')\n",
        "print(name + '님 안녕하세요!')"
      ],
      "metadata": {
        "id": "K_D0xVgV4y-p"
      },
      "execution_count": null,
      "outputs": []
    },
    {
      "cell_type": "code",
      "source": [
        "# 위 코드를 직접 써보시고 조금이라도 응용해보세요! :)\n"
      ],
      "metadata": {
        "id": "kmqnuu-eWmzH"
      },
      "execution_count": null,
      "outputs": []
    },
    {
      "cell_type": "code",
      "source": [],
      "metadata": {
        "id": "b6V8HbeQ4zBV"
      },
      "execution_count": null,
      "outputs": []
    },
    {
      "cell_type": "code",
      "source": [],
      "metadata": {
        "id": "8mst10DE4zDx"
      },
      "execution_count": null,
      "outputs": []
    },
    {
      "cell_type": "code",
      "source": [],
      "metadata": {
        "id": "WfBEjtiF4zGc"
      },
      "execution_count": null,
      "outputs": []
    },
    {
      "cell_type": "code",
      "source": [],
      "metadata": {
        "id": "NDUGxMiZ4zIv"
      },
      "execution_count": null,
      "outputs": []
    },
    {
      "cell_type": "code",
      "source": [],
      "metadata": {
        "id": "jkNfS7f74zLn"
      },
      "execution_count": null,
      "outputs": []
    },
    {
      "cell_type": "markdown",
      "source": [
        "### 4. 나만의 채팅 프로그램 만들기\n",
        "*   import time : 시간 관련 함수 꾸러미 불러오기\n",
        "*   time.sleep(n) : n초 동안 재우기\n",
        "\n",
        "\n",
        "\n",
        "\n"
      ],
      "metadata": {
        "id": "wU7NmQ_-4zVj"
      }
    },
    {
      "cell_type": "code",
      "source": [
        "import time\n",
        "print('오늘은 왠지 기분이 좋았다..')\n",
        "time.sleep(2)\n",
        "print('그래서 친구들에게 연락을 했다.')"
      ],
      "metadata": {
        "id": "lzIUpl-N4zht"
      },
      "execution_count": null,
      "outputs": []
    },
    {
      "cell_type": "code",
      "source": [
        "# 위 코드를 직접 써보시고 조금이라도 응용해보세요! :)\n",
        "\n"
      ],
      "metadata": {
        "id": "fWe6QKXTWn9o"
      },
      "execution_count": null,
      "outputs": []
    },
    {
      "cell_type": "code",
      "source": [
        "import time\n",
        "print('안녕하세요! 저는 석리송입니다!')\n",
        "time.sleep(1)\n",
        "name = input('당신은 이름이 무엇인가요? : ')\n",
        "time.sleep(1.5)\n",
        "print('오! 안녕하세요! '+name+'님! 반가워요!')\n",
        "age = input('그런데 '+name+'님! 실례지만 나이가 어떻게 되시나요?')\n",
        "print('오! 대박! 저는 '+str(int(age)-4)+'살이실 줄 알았어요!')"
      ],
      "metadata": {
        "id": "WpAPJ75x4zkQ"
      },
      "execution_count": null,
      "outputs": []
    },
    {
      "cell_type": "code",
      "source": [
        "# 위 코드를 직접 써보시고 조금이라도 응용해보세요! :)\n"
      ],
      "metadata": {
        "id": "Ws6aAiNUWoqh"
      },
      "execution_count": null,
      "outputs": []
    },
    {
      "cell_type": "code",
      "source": [],
      "metadata": {
        "id": "GEQVX5Df4zm-"
      },
      "execution_count": null,
      "outputs": []
    },
    {
      "cell_type": "code",
      "source": [],
      "metadata": {
        "id": "L_4msVVd4zpp"
      },
      "execution_count": null,
      "outputs": []
    },
    {
      "cell_type": "code",
      "source": [],
      "metadata": {
        "id": "X46l2TX54zsB"
      },
      "execution_count": null,
      "outputs": []
    }
  ]
}